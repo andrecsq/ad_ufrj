{
  "nbformat": 4,
  "nbformat_minor": 0,
  "metadata": {
    "colab": {
      "name": "André Queiroz - AD 3.31.ipynb",
      "provenance": [],
      "toc_visible": true,
      "authorship_tag": "ABX9TyOoKZcX6oMtRMwMdsHNmZL9",
      "include_colab_link": true
    },
    "kernelspec": {
      "name": "python3",
      "display_name": "Python 3"
    }
  },
  "cells": [
    {
      "cell_type": "markdown",
      "metadata": {
        "id": "view-in-github",
        "colab_type": "text"
      },
      "source": [
        "<a href=\"https://colab.research.google.com/github/andrecsq/ad_ufrj/blob/main/chapter3/Andr%C3%A9_Queiroz_AD_3_31.ipynb\" target=\"_parent\"><img src=\"https://colab.research.google.com/assets/colab-badge.svg\" alt=\"Open In Colab\"/></a>"
      ]
    },
    {
      "cell_type": "markdown",
      "metadata": {
        "id": "Dg-6GgYnDQxF"
      },
      "source": [
        "### For the network graph in Figure 3.17, find the PageRank for the nodes of the network using a damping factor of p = 0.90. See Example 3.21.\r\n",
        "\r\n"
      ]
    },
    {
      "cell_type": "markdown",
      "metadata": {
        "id": "YXSX3fvZDh1P"
      },
      "source": [
        "![image.png](https://i.imgur.com/SFngnjJ.png)"
      ]
    },
    {
      "cell_type": "markdown",
      "metadata": {
        "id": "7IaigrXEDkuU"
      },
      "source": [
        "PageRank formula: $$P = pQ + (1-p)A$$"
      ]
    },
    {
      "cell_type": "code",
      "metadata": {
        "id": "8pc1z_n9BhB5"
      },
      "source": [
        "import numpy as np"
      ],
      "execution_count": null,
      "outputs": []
    },
    {
      "cell_type": "code",
      "metadata": {
        "colab": {
          "base_uri": "https://localhost:8080/"
        },
        "id": "RhV4RoFZBoca",
        "outputId": "bb304907-0547-4e80-f120-71b4b21b1acd"
      },
      "source": [
        "sz = 4\r\n",
        "p = 0.9\r\n",
        "\r\n",
        "Q = np.array([[0,1/2,1/2,0],\r\n",
        "              [0,0,1,0],\r\n",
        "              [1/3,1/3,0,1/3],\r\n",
        "              [1/4,1/4,1/4,1/4]])\r\n",
        "print(\"Q:\")\r\n",
        "print(Q)"
      ],
      "execution_count": null,
      "outputs": [
        {
          "output_type": "stream",
          "text": [
            "Q:\n",
            "[[0.         0.5        0.5        0.        ]\n",
            " [0.         0.         1.         0.        ]\n",
            " [0.33333333 0.33333333 0.         0.33333333]\n",
            " [0.25       0.25       0.25       0.25      ]]\n"
          ],
          "name": "stdout"
        }
      ]
    },
    {
      "cell_type": "code",
      "metadata": {
        "colab": {
          "base_uri": "https://localhost:8080/"
        },
        "id": "14MqT1QNEhK9",
        "outputId": "bf716556-de27-420c-8370-64f3a1030a34"
      },
      "source": [
        "A = np.ones((sz,sz))/sz\r\n",
        "print(\"A:\")\r\n",
        "print(A)"
      ],
      "execution_count": null,
      "outputs": [
        {
          "output_type": "stream",
          "text": [
            "A:\n",
            "[[0.25 0.25 0.25 0.25]\n",
            " [0.25 0.25 0.25 0.25]\n",
            " [0.25 0.25 0.25 0.25]\n",
            " [0.25 0.25 0.25 0.25]]\n"
          ],
          "name": "stdout"
        }
      ]
    },
    {
      "cell_type": "code",
      "metadata": {
        "colab": {
          "base_uri": "https://localhost:8080/"
        },
        "id": "4aZcHrxqCwP3",
        "outputId": "f4563ced-1c8d-4df7-a68b-16919bb8247d"
      },
      "source": [
        "PR = p*Q + (1-p)*A\r\n",
        "\r\n",
        "print(\"PageRank matrix:\")\r\n",
        "print(PR)"
      ],
      "execution_count": null,
      "outputs": [
        {
          "output_type": "stream",
          "text": [
            "PageRank matrix:\n",
            "[[0.025 0.475 0.475 0.025]\n",
            " [0.025 0.025 0.925 0.025]\n",
            " [0.325 0.325 0.025 0.325]\n",
            " [0.25  0.25  0.25  0.25 ]]\n"
          ],
          "name": "stdout"
        }
      ]
    },
    {
      "cell_type": "code",
      "metadata": {
        "colab": {
          "base_uri": "https://localhost:8080/"
        },
        "id": "IJWWhKlTDGC1",
        "outputId": "cd359d34-6f1f-443a-9de0-c47480619323"
      },
      "source": [
        "PR100 = np.linalg.matrix_power(PR, 100)\r\n",
        "\r\n",
        "print(f\"Stationary probabilities: {PR100[0,:]}\")"
      ],
      "execution_count": null,
      "outputs": [
        {
          "output_type": "stream",
          "text": [
            "Stationary probabilities: [0.17955801 0.26035912 0.38052486 0.17955801]\n"
          ],
          "name": "stdout"
        }
      ]
    },
    {
      "cell_type": "markdown",
      "metadata": {
        "id": "SCtRpm5JELvv"
      },
      "source": [
        "Ajudinha pra questão 3.38"
      ]
    },
    {
      "cell_type": "code",
      "metadata": {
        "colab": {
          "base_uri": "https://localhost:8080/"
        },
        "id": "DrdN1-loEPZV",
        "outputId": "f1bb2e42-25fc-4599-a2ef-8a7fa6df82db"
      },
      "source": [
        "Q = np.array([[0.402, 0.402, 0.161, 0.032, 0.003],\r\n",
        "              [0.000, 0.482, 0.386, 0.116, 0.015],\r\n",
        "              [0.000, 0.000, 0.579, 0.347, 0.069],\r\n",
        "              [0.000, 0.000, 0.000, 0.694, 0.278],\r\n",
        "              [0.000, 0.000, 0.000, 0.000, 0.833],])\r\n",
        "\r\n",
        "I = np.identity(5)\r\n",
        "\r\n",
        "F = np.linalg.inv(I - Q)\r\n",
        "\r\n",
        "F"
      ],
      "execution_count": null,
      "outputs": [
        {
          "output_type": "execute_result",
          "data": {
            "text/plain": [
              "array([[1.6722408 , 1.29776217, 1.82937522, 2.74132457, 5.46585793],\n",
              "       [0.        , 1.93050193, 1.7700089 , 2.73899121, 5.46423772],\n",
              "       [0.        , 0.        , 2.37529691, 2.69355565, 5.46529316],\n",
              "       [0.        , 0.        , 0.        , 3.26797386, 5.44010019],\n",
              "       [0.        , 0.        , 0.        , 0.        , 5.98802395]])"
            ]
          },
          "metadata": {
            "tags": []
          },
          "execution_count": 6
        }
      ]
    },
    {
      "cell_type": "code",
      "metadata": {
        "id": "AJu2wekJFkHz",
        "colab": {
          "base_uri": "https://localhost:8080/"
        },
        "outputId": "ce9fa50f-0230-46d7-d8a7-67da71178a8d"
      },
      "source": [
        "np.sum(F[0])"
      ],
      "execution_count": null,
      "outputs": [
        {
          "output_type": "execute_result",
          "data": {
            "text/plain": [
              "13.006560678640929"
            ]
          },
          "metadata": {
            "tags": []
          },
          "execution_count": 5
        }
      ]
    }
  ]
}
